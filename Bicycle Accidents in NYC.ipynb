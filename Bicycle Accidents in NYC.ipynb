{
 "cells": [
  {
   "cell_type": "markdown",
   "id": "75cd6d52",
   "metadata": {},
   "source": [
    "# Bicycle Accidents in NYC\n",
    "Use LR/KNN/Decision Tree/Random Forest regression algorithms from sklearn to predict the accident location.\n",
    "I will only select a few features I believe are more relevant to accident location. Categorical data will be treated with Pandas get_dummies method. Rows with missing values will be dropped.\n",
    "\n",
    "Scenario and Data:\n",
    "NYC is known for its traffic jams. So, going around on a bike is a big time saver. But there’s some risk of having\n",
    "an accident. We have two datasets to do some research on them:\n",
    "\n",
    "Bike Stations: https://feeds.citibikenyc.com/stations/stations.json\n",
    "\n",
    "Vehicle crashes: https://data.cityofnewyork.us/Public-Safety/NYPD-Motor-Vehicle-CollisionsCrashes/h9gi-nx95\n",
    "\n",
    "Questions:\n",
    "\n",
    "What is the most dangerous NYC borough / area for a bicycle rider? Use visualization.\n",
    "\n",
    "What would you change in the locations of bike stations to increase safety? Use visualization.\n",
    "\n",
    "Where can an accident occur and how close is this from the nearest bike station? Create a predictive\n",
    "model."
   ]
  },
  {
   "cell_type": "markdown",
   "id": "48629419",
   "metadata": {},
   "source": [
    "## Step 1. Import libraries"
   ]
  },
  {
   "cell_type": "code",
   "execution_count": 230,
   "id": "7959dace",
   "metadata": {},
   "outputs": [],
   "source": [
    "# Import numpy, pandas, matpltlib.pyplot, sklearn modules and seaborn\n",
    "import numpy as np\n",
    "import pandas as pd\n",
    "import matplotlib.pyplot as plt\n",
    "import seaborn as sns\n",
    "%matplotlib inline\n",
    "pd.set_option('display.max_rows', 200)\n",
    "pd.set_option('display.max_columns', 200)\n",
    "plt.style.use('ggplot')\n",
    "\n",
    "# Import KNeighborsClassifier from sklearn.neighbors\n",
    "from sklearn.neighbors import KNeighborsClassifier\n",
    "from sklearn.neighbors import KNeighborsRegressor\n",
    "\n",
    "# Import DecisionTreeClassifier from sklearn.tree\n",
    "from sklearn.tree import DecisionTreeClassifier\n",
    "\n",
    "# Import RandomForestClassifier\n",
    "from sklearn.ensemble import RandomForestClassifier\n",
    "\n",
    "# Import RandomForestRegressor\n",
    "from sklearn.ensemble import RandomForestRegressor\n",
    "\n",
    "# Import LinearRegression\n",
    "from sklearn.linear_model import LinearRegression\n",
    "\n",
    "# Import LogisticRegression\n",
    "from sklearn.linear_model import LogisticRegression\n",
    "\n",
    "# Import DecisionTreeRegression\n",
    "from sklearn.tree import DecisionTreeRegressor\n",
    "\n",
    "from sklearn.model_selection import train_test_split\n",
    "from sklearn.model_selection import GridSearchCV\n",
    "from sklearn.feature_selection import SelectFromModel\n",
    "from sklearn.metrics import classification_report\n",
    "from sklearn.metrics import confusion_matrix\n",
    "from sklearn.metrics import accuracy_score\n",
    "from sklearn.metrics import r2_score\n",
    "from sklearn.metrics import roc_curve, auc"
   ]
  },
  {
   "cell_type": "markdown",
   "id": "821366c5",
   "metadata": {},
   "source": [
    "## Step 2. Import datasets"
   ]
  },
  {
   "cell_type": "code",
   "execution_count": 3,
   "id": "88e27184",
   "metadata": {},
   "outputs": [
    {
     "name": "stderr",
     "output_type": "stream",
     "text": [
      "/var/folders/z_/jq1p2fjj42lglv5zz6h92d2h0000gn/T/ipykernel_5942/1725902710.py:6: DtypeWarning: Columns (3) have mixed types. Specify dtype option on import or set low_memory=False.\n",
      "  df = pd.read_csv('./Motor_Vehicle_Collisions_-_Crashes.csv',dtype={'BOROUGH': object})\n"
     ]
    },
    {
     "name": "stdout",
     "output_type": "stream",
     "text": [
      "<class 'pandas.core.frame.DataFrame'>\n",
      "RangeIndex: 1894718 entries, 0 to 1894717\n",
      "Data columns (total 29 columns):\n",
      " #   Column                         Dtype  \n",
      "---  ------                         -----  \n",
      " 0   CRASH DATE                     object \n",
      " 1   CRASH TIME                     object \n",
      " 2   BOROUGH                        object \n",
      " 3   ZIP CODE                       object \n",
      " 4   LATITUDE                       float64\n",
      " 5   LONGITUDE                      float64\n",
      " 6   LOCATION                       object \n",
      " 7   ON STREET NAME                 object \n",
      " 8   CROSS STREET NAME              object \n",
      " 9   OFF STREET NAME                object \n",
      " 10  NUMBER OF PERSONS INJURED      float64\n",
      " 11  NUMBER OF PERSONS KILLED       float64\n",
      " 12  NUMBER OF PEDESTRIANS INJURED  int64  \n",
      " 13  NUMBER OF PEDESTRIANS KILLED   int64  \n",
      " 14  NUMBER OF CYCLIST INJURED      int64  \n",
      " 15  NUMBER OF CYCLIST KILLED       int64  \n",
      " 16  NUMBER OF MOTORIST INJURED     int64  \n",
      " 17  NUMBER OF MOTORIST KILLED      int64  \n",
      " 18  CONTRIBUTING FACTOR VEHICLE 1  object \n",
      " 19  CONTRIBUTING FACTOR VEHICLE 2  object \n",
      " 20  CONTRIBUTING FACTOR VEHICLE 3  object \n",
      " 21  CONTRIBUTING FACTOR VEHICLE 4  object \n",
      " 22  CONTRIBUTING FACTOR VEHICLE 5  object \n",
      " 23  COLLISION_ID                   int64  \n",
      " 24  VEHICLE TYPE CODE 1            object \n",
      " 25  VEHICLE TYPE CODE 2            object \n",
      " 26  VEHICLE TYPE CODE 3            object \n",
      " 27  VEHICLE TYPE CODE 4            object \n",
      " 28  VEHICLE TYPE CODE 5            object \n",
      "dtypes: float64(4), int64(7), object(18)\n",
      "memory usage: 419.2+ MB\n"
     ]
    }
   ],
   "source": [
    "#NYC collsion data\n",
    "\n",
    "# import from url\n",
    "#url = \"https://data.cityofnewyork.us/api/views/h9gi-nx95/rows.csv?accessType=DOWNLOAD\"\n",
    "#df = pd.read_csv(url,dtype={'BOROUGH': object})\n",
    "\n",
    "# import from device\n",
    "df = pd.read_csv('./Motor_Vehicle_Collisions_-_Crashes.csv',dtype={'BOROUGH': object})\n",
    "\n",
    "df.info()"
   ]
  },
  {
   "cell_type": "code",
   "execution_count": 22,
   "id": "8c9a0c40",
   "metadata": {},
   "outputs": [
    {
     "name": "stdout",
     "output_type": "stream",
     "text": [
      "<class 'pandas.core.frame.DataFrame'>\n",
      "RangeIndex: 509 entries, 0 to 508\n",
      "Data columns (total 18 columns):\n",
      " #   Column                 Non-Null Count  Dtype  \n",
      "---  ------                 --------------  -----  \n",
      " 0   id                     509 non-null    int64  \n",
      " 1   stationName            509 non-null    object \n",
      " 2   availableDocks         509 non-null    int64  \n",
      " 3   totalDocks             509 non-null    int64  \n",
      " 4   latitude               509 non-null    float64\n",
      " 5   longitude              509 non-null    float64\n",
      " 6   statusValue            509 non-null    object \n",
      " 7   statusKey              509 non-null    int64  \n",
      " 8   availableBikes         509 non-null    int64  \n",
      " 9   stAddress1             509 non-null    object \n",
      " 10  stAddress2             509 non-null    object \n",
      " 11  city                   509 non-null    object \n",
      " 12  postalCode             509 non-null    object \n",
      " 13  location               509 non-null    object \n",
      " 14  altitude               509 non-null    object \n",
      " 15  testStation            509 non-null    bool   \n",
      " 16  lastCommunicationTime  509 non-null    object \n",
      " 17  landMark               509 non-null    object \n",
      "dtypes: bool(1), float64(2), int64(5), object(10)\n",
      "memory usage: 68.2+ KB\n"
     ]
    }
   ],
   "source": [
    "#NYC bycicle station data\n",
    "\n",
    "# import from url\n",
    "#URL ='https://feeds.citibikenyc.com/stations/stations.json'\n",
    "#stations = pd.read_json(URL)\n",
    "\n",
    "# import from device\n",
    "stations = pd.read_json('./stations.json')\n",
    "\n",
    "stations = pd.json_normalize(stations.stationBeanList)\n",
    "stations.info()"
   ]
  },
  {
   "cell_type": "markdown",
   "id": "5f30ea92",
   "metadata": {},
   "source": [
    "## Step 3. Extract year, month, day, hour, weekday"
   ]
  },
  {
   "cell_type": "code",
   "execution_count": 49,
   "id": "bb1f645b",
   "metadata": {},
   "outputs": [],
   "source": [
    "# Convert Start_Time and End_Time to datetypes\n",
    "df['CRASH DATE'] = pd.to_datetime(df['CRASH DATE'], errors='coerce')\n",
    "df['CRASH TIME'] = pd.to_datetime(df['CRASH TIME'], errors='coerce')\n",
    "\n",
    "# Extract year, month, day, hour and weekday\n",
    "df['Year']=df['CRASH DATE'].dt.year\n",
    "df['Month']=df['CRASH DATE'].dt.strftime('%b')\n",
    "df['Day']=df['CRASH DATE'].dt.day\n",
    "df['Hour']=df['CRASH TIME'].dt.hour\n",
    "df['Weekday']=df['CRASH DATE'].dt.strftime('%a')"
   ]
  },
  {
   "cell_type": "markdown",
   "id": "6caa0ec9",
   "metadata": {},
   "source": [
    "##  Step 4. Filtering/cleaning\n",
    "### A. Filter accidents involving cyclists"
   ]
  },
  {
   "cell_type": "code",
   "execution_count": 50,
   "id": "1abb2673",
   "metadata": {},
   "outputs": [
    {
     "name": "stdout",
     "output_type": "stream",
     "text": [
      "<class 'pandas.core.frame.DataFrame'>\n",
      "Int64Index: 45756 entries, 53 to 1894710\n",
      "Data columns (total 34 columns):\n",
      " #   Column                         Non-Null Count  Dtype         \n",
      "---  ------                         --------------  -----         \n",
      " 0   CRASH DATE                     45756 non-null  datetime64[ns]\n",
      " 1   CRASH TIME                     45756 non-null  datetime64[ns]\n",
      " 2   BOROUGH                        35716 non-null  object        \n",
      " 3   ZIP CODE                       35715 non-null  object        \n",
      " 4   LATITUDE                       42351 non-null  float64       \n",
      " 5   LONGITUDE                      42351 non-null  float64       \n",
      " 6   LOCATION                       42351 non-null  object        \n",
      " 7   ON STREET NAME                 39028 non-null  object        \n",
      " 8   CROSS STREET NAME              32946 non-null  object        \n",
      " 9   OFF STREET NAME                6659 non-null   object        \n",
      " 10  NUMBER OF PERSONS INJURED      45754 non-null  float64       \n",
      " 11  NUMBER OF PERSONS KILLED       45755 non-null  float64       \n",
      " 12  NUMBER OF PEDESTRIANS INJURED  45756 non-null  int64         \n",
      " 13  NUMBER OF PEDESTRIANS KILLED   45756 non-null  int64         \n",
      " 14  NUMBER OF CYCLIST INJURED      45756 non-null  int64         \n",
      " 15  NUMBER OF CYCLIST KILLED       45756 non-null  int64         \n",
      " 16  NUMBER OF MOTORIST INJURED     45756 non-null  int64         \n",
      " 17  NUMBER OF MOTORIST KILLED      45756 non-null  int64         \n",
      " 18  CONTRIBUTING FACTOR VEHICLE 1  45738 non-null  object        \n",
      " 19  CONTRIBUTING FACTOR VEHICLE 2  42484 non-null  object        \n",
      " 20  CONTRIBUTING FACTOR VEHICLE 3  1041 non-null   object        \n",
      " 21  CONTRIBUTING FACTOR VEHICLE 4  113 non-null    object        \n",
      " 22  CONTRIBUTING FACTOR VEHICLE 5  38 non-null     object        \n",
      " 23  COLLISION_ID                   45756 non-null  int64         \n",
      " 24  VEHICLE TYPE CODE 1            45736 non-null  object        \n",
      " 25  VEHICLE TYPE CODE 2            41486 non-null  object        \n",
      " 26  VEHICLE TYPE CODE 3            1028 non-null   object        \n",
      " 27  VEHICLE TYPE CODE 4            112 non-null    object        \n",
      " 28  VEHICLE TYPE CODE 5            40 non-null     object        \n",
      " 29  Year                           45756 non-null  int64         \n",
      " 30  Month                          45756 non-null  object        \n",
      " 31  Day                            45756 non-null  int64         \n",
      " 32  Hour                           45756 non-null  int64         \n",
      " 33  Weekday                        45756 non-null  object        \n",
      "dtypes: datetime64[ns](2), float64(4), int64(10), object(18)\n",
      "memory usage: 12.2+ MB\n"
     ]
    }
   ],
   "source": [
    "#consider only accident with at least one cyclist injured or killed\n",
    "df_bike = df[(df['NUMBER OF CYCLIST INJURED'] > 0) | (df['NUMBER OF CYCLIST KILLED'] > 0)]\n",
    "df_bike.info()"
   ]
  },
  {
   "cell_type": "markdown",
   "id": "a178cb21",
   "metadata": {},
   "source": [
    "##  Step 4. Filtering/cleaning\n",
    "### B. Filter NANs"
   ]
  },
  {
   "cell_type": "code",
   "execution_count": 51,
   "id": "a91b240c",
   "metadata": {
    "scrolled": true
   },
   "outputs": [
    {
     "name": "stdout",
     "output_type": "stream",
     "text": [
      "<class 'pandas.core.frame.DataFrame'>\n",
      "Int64Index: 34842 entries, 53 to 1894710\n",
      "Data columns (total 34 columns):\n",
      " #   Column                         Non-Null Count  Dtype         \n",
      "---  ------                         --------------  -----         \n",
      " 0   CRASH DATE                     34842 non-null  datetime64[ns]\n",
      " 1   CRASH TIME                     34842 non-null  datetime64[ns]\n",
      " 2   BOROUGH                        34842 non-null  object        \n",
      " 3   ZIP CODE                       34841 non-null  object        \n",
      " 4   LATITUDE                       34842 non-null  float64       \n",
      " 5   LONGITUDE                      34842 non-null  float64       \n",
      " 6   LOCATION                       34842 non-null  object        \n",
      " 7   ON STREET NAME                 29122 non-null  object        \n",
      " 8   CROSS STREET NAME              29121 non-null  object        \n",
      " 9   OFF STREET NAME                5720 non-null   object        \n",
      " 10  NUMBER OF PERSONS INJURED      34841 non-null  float64       \n",
      " 11  NUMBER OF PERSONS KILLED       34841 non-null  float64       \n",
      " 12  NUMBER OF PEDESTRIANS INJURED  34842 non-null  int64         \n",
      " 13  NUMBER OF PEDESTRIANS KILLED   34842 non-null  int64         \n",
      " 14  NUMBER OF CYCLIST INJURED      34842 non-null  int64         \n",
      " 15  NUMBER OF CYCLIST KILLED       34842 non-null  int64         \n",
      " 16  NUMBER OF MOTORIST INJURED     34842 non-null  int64         \n",
      " 17  NUMBER OF MOTORIST KILLED      34842 non-null  int64         \n",
      " 18  CONTRIBUTING FACTOR VEHICLE 1  34827 non-null  object        \n",
      " 19  CONTRIBUTING FACTOR VEHICLE 2  32783 non-null  object        \n",
      " 20  CONTRIBUTING FACTOR VEHICLE 3  795 non-null    object        \n",
      " 21  CONTRIBUTING FACTOR VEHICLE 4  77 non-null     object        \n",
      " 22  CONTRIBUTING FACTOR VEHICLE 5  29 non-null     object        \n",
      " 23  COLLISION_ID                   34842 non-null  int64         \n",
      " 24  VEHICLE TYPE CODE 1            34825 non-null  object        \n",
      " 25  VEHICLE TYPE CODE 2            32148 non-null  object        \n",
      " 26  VEHICLE TYPE CODE 3            789 non-null    object        \n",
      " 27  VEHICLE TYPE CODE 4            77 non-null     object        \n",
      " 28  VEHICLE TYPE CODE 5            31 non-null     object        \n",
      " 29  Year                           34842 non-null  int64         \n",
      " 30  Month                          34842 non-null  object        \n",
      " 31  Day                            34842 non-null  int64         \n",
      " 32  Hour                           34842 non-null  int64         \n",
      " 33  Weekday                        34842 non-null  object        \n",
      "dtypes: datetime64[ns](2), float64(4), int64(10), object(18)\n",
      "memory usage: 9.3+ MB\n"
     ]
    },
    {
     "data": {
      "text/html": [
       "<div>\n",
       "<style scoped>\n",
       "    .dataframe tbody tr th:only-of-type {\n",
       "        vertical-align: middle;\n",
       "    }\n",
       "\n",
       "    .dataframe tbody tr th {\n",
       "        vertical-align: top;\n",
       "    }\n",
       "\n",
       "    .dataframe thead th {\n",
       "        text-align: right;\n",
       "    }\n",
       "</style>\n",
       "<table border=\"1\" class=\"dataframe\">\n",
       "  <thead>\n",
       "    <tr style=\"text-align: right;\">\n",
       "      <th></th>\n",
       "      <th>CRASH DATE</th>\n",
       "      <th>CRASH TIME</th>\n",
       "      <th>BOROUGH</th>\n",
       "      <th>ZIP CODE</th>\n",
       "      <th>LATITUDE</th>\n",
       "      <th>LONGITUDE</th>\n",
       "      <th>LOCATION</th>\n",
       "      <th>ON STREET NAME</th>\n",
       "      <th>CROSS STREET NAME</th>\n",
       "      <th>OFF STREET NAME</th>\n",
       "      <th>NUMBER OF PERSONS INJURED</th>\n",
       "      <th>NUMBER OF PERSONS KILLED</th>\n",
       "      <th>NUMBER OF PEDESTRIANS INJURED</th>\n",
       "      <th>NUMBER OF PEDESTRIANS KILLED</th>\n",
       "      <th>NUMBER OF CYCLIST INJURED</th>\n",
       "      <th>NUMBER OF CYCLIST KILLED</th>\n",
       "      <th>NUMBER OF MOTORIST INJURED</th>\n",
       "      <th>NUMBER OF MOTORIST KILLED</th>\n",
       "      <th>CONTRIBUTING FACTOR VEHICLE 1</th>\n",
       "      <th>CONTRIBUTING FACTOR VEHICLE 2</th>\n",
       "      <th>CONTRIBUTING FACTOR VEHICLE 3</th>\n",
       "      <th>CONTRIBUTING FACTOR VEHICLE 4</th>\n",
       "      <th>CONTRIBUTING FACTOR VEHICLE 5</th>\n",
       "      <th>COLLISION_ID</th>\n",
       "      <th>VEHICLE TYPE CODE 1</th>\n",
       "      <th>VEHICLE TYPE CODE 2</th>\n",
       "      <th>VEHICLE TYPE CODE 3</th>\n",
       "      <th>VEHICLE TYPE CODE 4</th>\n",
       "      <th>VEHICLE TYPE CODE 5</th>\n",
       "      <th>Year</th>\n",
       "      <th>Month</th>\n",
       "      <th>Day</th>\n",
       "      <th>Hour</th>\n",
       "      <th>Weekday</th>\n",
       "    </tr>\n",
       "  </thead>\n",
       "  <tbody>\n",
       "    <tr>\n",
       "      <th>53</th>\n",
       "      <td>2021-04-16</td>\n",
       "      <td>2022-06-24 11:00:00</td>\n",
       "      <td>QUEENS</td>\n",
       "      <td>11368.0</td>\n",
       "      <td>40.749580</td>\n",
       "      <td>-73.865410</td>\n",
       "      <td>(40.74958, -73.86541)</td>\n",
       "      <td>NaN</td>\n",
       "      <td>NaN</td>\n",
       "      <td>100-10    ROOSEVELT AVENUE</td>\n",
       "      <td>1.0</td>\n",
       "      <td>0.0</td>\n",
       "      <td>0</td>\n",
       "      <td>0</td>\n",
       "      <td>1</td>\n",
       "      <td>0</td>\n",
       "      <td>0</td>\n",
       "      <td>0</td>\n",
       "      <td>Turning Improperly</td>\n",
       "      <td>Unspecified</td>\n",
       "      <td>NaN</td>\n",
       "      <td>NaN</td>\n",
       "      <td>NaN</td>\n",
       "      <td>4407792</td>\n",
       "      <td>Station Wagon/Sport Utility Vehicle</td>\n",
       "      <td>Bike</td>\n",
       "      <td>NaN</td>\n",
       "      <td>NaN</td>\n",
       "      <td>NaN</td>\n",
       "      <td>2021</td>\n",
       "      <td>Apr</td>\n",
       "      <td>16</td>\n",
       "      <td>11</td>\n",
       "      <td>Fri</td>\n",
       "    </tr>\n",
       "    <tr>\n",
       "      <th>140</th>\n",
       "      <td>2021-04-13</td>\n",
       "      <td>2022-06-24 17:55:00</td>\n",
       "      <td>BRONX</td>\n",
       "      <td>10452.0</td>\n",
       "      <td>40.844105</td>\n",
       "      <td>-73.923065</td>\n",
       "      <td>(40.844105, -73.923065)</td>\n",
       "      <td>GRANT HIGHWAY</td>\n",
       "      <td>UNIVERSITY AVENUE</td>\n",
       "      <td>NaN</td>\n",
       "      <td>1.0</td>\n",
       "      <td>0.0</td>\n",
       "      <td>0</td>\n",
       "      <td>0</td>\n",
       "      <td>1</td>\n",
       "      <td>0</td>\n",
       "      <td>0</td>\n",
       "      <td>0</td>\n",
       "      <td>Pedestrian/Bicyclist/Other Pedestrian Error/Co...</td>\n",
       "      <td>Unspecified</td>\n",
       "      <td>NaN</td>\n",
       "      <td>NaN</td>\n",
       "      <td>NaN</td>\n",
       "      <td>4407789</td>\n",
       "      <td>Station Wagon/Sport Utility Vehicle</td>\n",
       "      <td>Bike</td>\n",
       "      <td>NaN</td>\n",
       "      <td>NaN</td>\n",
       "      <td>NaN</td>\n",
       "      <td>2021</td>\n",
       "      <td>Apr</td>\n",
       "      <td>13</td>\n",
       "      <td>17</td>\n",
       "      <td>Tue</td>\n",
       "    </tr>\n",
       "    <tr>\n",
       "      <th>146</th>\n",
       "      <td>2021-04-14</td>\n",
       "      <td>2022-06-24 19:45:00</td>\n",
       "      <td>BROOKLYN</td>\n",
       "      <td>11201.0</td>\n",
       "      <td>40.694840</td>\n",
       "      <td>-73.983910</td>\n",
       "      <td>(40.69484, -73.98391)</td>\n",
       "      <td>FLATBUSH AVENUE EXTENSION</td>\n",
       "      <td>JOHNSON STREET</td>\n",
       "      <td>NaN</td>\n",
       "      <td>1.0</td>\n",
       "      <td>0.0</td>\n",
       "      <td>0</td>\n",
       "      <td>0</td>\n",
       "      <td>1</td>\n",
       "      <td>0</td>\n",
       "      <td>0</td>\n",
       "      <td>0</td>\n",
       "      <td>Driver Inattention/Distraction</td>\n",
       "      <td>Driver Inattention/Distraction</td>\n",
       "      <td>NaN</td>\n",
       "      <td>NaN</td>\n",
       "      <td>NaN</td>\n",
       "      <td>4407414</td>\n",
       "      <td>Sedan</td>\n",
       "      <td>Bike</td>\n",
       "      <td>NaN</td>\n",
       "      <td>NaN</td>\n",
       "      <td>NaN</td>\n",
       "      <td>2021</td>\n",
       "      <td>Apr</td>\n",
       "      <td>14</td>\n",
       "      <td>19</td>\n",
       "      <td>Wed</td>\n",
       "    </tr>\n",
       "    <tr>\n",
       "      <th>179</th>\n",
       "      <td>2021-04-16</td>\n",
       "      <td>2022-06-24 00:30:00</td>\n",
       "      <td>QUEENS</td>\n",
       "      <td>11369.0</td>\n",
       "      <td>40.758680</td>\n",
       "      <td>-73.875520</td>\n",
       "      <td>(40.75868, -73.87552)</td>\n",
       "      <td>93 STREET</td>\n",
       "      <td>32 AVENUE</td>\n",
       "      <td>NaN</td>\n",
       "      <td>1.0</td>\n",
       "      <td>0.0</td>\n",
       "      <td>0</td>\n",
       "      <td>0</td>\n",
       "      <td>1</td>\n",
       "      <td>0</td>\n",
       "      <td>0</td>\n",
       "      <td>0</td>\n",
       "      <td>Unsafe Speed</td>\n",
       "      <td>Unspecified</td>\n",
       "      <td>Unspecified</td>\n",
       "      <td>NaN</td>\n",
       "      <td>NaN</td>\n",
       "      <td>4407714</td>\n",
       "      <td>Sedan</td>\n",
       "      <td>Bike</td>\n",
       "      <td>NaN</td>\n",
       "      <td>NaN</td>\n",
       "      <td>NaN</td>\n",
       "      <td>2021</td>\n",
       "      <td>Apr</td>\n",
       "      <td>16</td>\n",
       "      <td>0</td>\n",
       "      <td>Fri</td>\n",
       "    </tr>\n",
       "    <tr>\n",
       "      <th>276</th>\n",
       "      <td>2021-04-14</td>\n",
       "      <td>2022-06-24 15:05:00</td>\n",
       "      <td>BROOKLYN</td>\n",
       "      <td>11201.0</td>\n",
       "      <td>40.693490</td>\n",
       "      <td>-73.979170</td>\n",
       "      <td>(40.69349, -73.97917)</td>\n",
       "      <td>MYRTLE AVENUE</td>\n",
       "      <td>ASHLAND PLACE</td>\n",
       "      <td>NaN</td>\n",
       "      <td>1.0</td>\n",
       "      <td>0.0</td>\n",
       "      <td>0</td>\n",
       "      <td>0</td>\n",
       "      <td>1</td>\n",
       "      <td>0</td>\n",
       "      <td>0</td>\n",
       "      <td>0</td>\n",
       "      <td>Unspecified</td>\n",
       "      <td>Unspecified</td>\n",
       "      <td>NaN</td>\n",
       "      <td>NaN</td>\n",
       "      <td>NaN</td>\n",
       "      <td>4407647</td>\n",
       "      <td>Station Wagon/Sport Utility Vehicle</td>\n",
       "      <td>Bike</td>\n",
       "      <td>NaN</td>\n",
       "      <td>NaN</td>\n",
       "      <td>NaN</td>\n",
       "      <td>2021</td>\n",
       "      <td>Apr</td>\n",
       "      <td>14</td>\n",
       "      <td>15</td>\n",
       "      <td>Wed</td>\n",
       "    </tr>\n",
       "    <tr>\n",
       "      <th>...</th>\n",
       "      <td>...</td>\n",
       "      <td>...</td>\n",
       "      <td>...</td>\n",
       "      <td>...</td>\n",
       "      <td>...</td>\n",
       "      <td>...</td>\n",
       "      <td>...</td>\n",
       "      <td>...</td>\n",
       "      <td>...</td>\n",
       "      <td>...</td>\n",
       "      <td>...</td>\n",
       "      <td>...</td>\n",
       "      <td>...</td>\n",
       "      <td>...</td>\n",
       "      <td>...</td>\n",
       "      <td>...</td>\n",
       "      <td>...</td>\n",
       "      <td>...</td>\n",
       "      <td>...</td>\n",
       "      <td>...</td>\n",
       "      <td>...</td>\n",
       "      <td>...</td>\n",
       "      <td>...</td>\n",
       "      <td>...</td>\n",
       "      <td>...</td>\n",
       "      <td>...</td>\n",
       "      <td>...</td>\n",
       "      <td>...</td>\n",
       "      <td>...</td>\n",
       "      <td>...</td>\n",
       "      <td>...</td>\n",
       "      <td>...</td>\n",
       "      <td>...</td>\n",
       "      <td>...</td>\n",
       "    </tr>\n",
       "    <tr>\n",
       "      <th>1894514</th>\n",
       "      <td>2012-07-04</td>\n",
       "      <td>2022-06-24 16:41:00</td>\n",
       "      <td>BROOKLYN</td>\n",
       "      <td>11203</td>\n",
       "      <td>40.656611</td>\n",
       "      <td>-73.930902</td>\n",
       "      <td>(40.6566109, -73.9309021)</td>\n",
       "      <td>UTICA AVENUE</td>\n",
       "      <td>CLARKSON AVENUE</td>\n",
       "      <td>NaN</td>\n",
       "      <td>1.0</td>\n",
       "      <td>0.0</td>\n",
       "      <td>0</td>\n",
       "      <td>0</td>\n",
       "      <td>1</td>\n",
       "      <td>0</td>\n",
       "      <td>0</td>\n",
       "      <td>0</td>\n",
       "      <td>Unspecified</td>\n",
       "      <td>Unspecified</td>\n",
       "      <td>NaN</td>\n",
       "      <td>NaN</td>\n",
       "      <td>NaN</td>\n",
       "      <td>135074</td>\n",
       "      <td>PASSENGER VEHICLE</td>\n",
       "      <td>BICYCLE</td>\n",
       "      <td>NaN</td>\n",
       "      <td>NaN</td>\n",
       "      <td>NaN</td>\n",
       "      <td>2012</td>\n",
       "      <td>Jul</td>\n",
       "      <td>4</td>\n",
       "      <td>16</td>\n",
       "      <td>Wed</td>\n",
       "    </tr>\n",
       "    <tr>\n",
       "      <th>1894588</th>\n",
       "      <td>2012-07-09</td>\n",
       "      <td>2022-06-24 17:37:00</td>\n",
       "      <td>BROOKLYN</td>\n",
       "      <td>11222</td>\n",
       "      <td>40.720601</td>\n",
       "      <td>-73.954754</td>\n",
       "      <td>(40.7206006, -73.9547539)</td>\n",
       "      <td>BEDFORD AVENUE</td>\n",
       "      <td>NORTH 12 STREET</td>\n",
       "      <td>NaN</td>\n",
       "      <td>1.0</td>\n",
       "      <td>0.0</td>\n",
       "      <td>0</td>\n",
       "      <td>0</td>\n",
       "      <td>1</td>\n",
       "      <td>0</td>\n",
       "      <td>0</td>\n",
       "      <td>0</td>\n",
       "      <td>Passenger Distraction</td>\n",
       "      <td>Unspecified</td>\n",
       "      <td>NaN</td>\n",
       "      <td>NaN</td>\n",
       "      <td>NaN</td>\n",
       "      <td>198192</td>\n",
       "      <td>TAXI</td>\n",
       "      <td>BICYCLE</td>\n",
       "      <td>NaN</td>\n",
       "      <td>NaN</td>\n",
       "      <td>NaN</td>\n",
       "      <td>2012</td>\n",
       "      <td>Jul</td>\n",
       "      <td>9</td>\n",
       "      <td>17</td>\n",
       "      <td>Mon</td>\n",
       "    </tr>\n",
       "    <tr>\n",
       "      <th>1894609</th>\n",
       "      <td>2012-07-02</td>\n",
       "      <td>2022-06-24 09:46:00</td>\n",
       "      <td>MANHATTAN</td>\n",
       "      <td>10002</td>\n",
       "      <td>40.717724</td>\n",
       "      <td>-73.985765</td>\n",
       "      <td>(40.7177239, -73.9857652)</td>\n",
       "      <td>DELANCEY STREET</td>\n",
       "      <td>CLINTON STREET</td>\n",
       "      <td>NaN</td>\n",
       "      <td>1.0</td>\n",
       "      <td>0.0</td>\n",
       "      <td>0</td>\n",
       "      <td>0</td>\n",
       "      <td>1</td>\n",
       "      <td>0</td>\n",
       "      <td>0</td>\n",
       "      <td>0</td>\n",
       "      <td>Outside Car Distraction</td>\n",
       "      <td>Unspecified</td>\n",
       "      <td>NaN</td>\n",
       "      <td>NaN</td>\n",
       "      <td>NaN</td>\n",
       "      <td>12187</td>\n",
       "      <td>PICK-UP TRUCK</td>\n",
       "      <td>BICYCLE</td>\n",
       "      <td>NaN</td>\n",
       "      <td>NaN</td>\n",
       "      <td>NaN</td>\n",
       "      <td>2012</td>\n",
       "      <td>Jul</td>\n",
       "      <td>2</td>\n",
       "      <td>9</td>\n",
       "      <td>Mon</td>\n",
       "    </tr>\n",
       "    <tr>\n",
       "      <th>1894678</th>\n",
       "      <td>2012-07-06</td>\n",
       "      <td>2022-06-24 13:33:00</td>\n",
       "      <td>BROOKLYN</td>\n",
       "      <td>11209</td>\n",
       "      <td>40.625780</td>\n",
       "      <td>-74.024154</td>\n",
       "      <td>(40.6257805, -74.0241544)</td>\n",
       "      <td>5 AVENUE</td>\n",
       "      <td>80 STREET</td>\n",
       "      <td>NaN</td>\n",
       "      <td>1.0</td>\n",
       "      <td>0.0</td>\n",
       "      <td>0</td>\n",
       "      <td>0</td>\n",
       "      <td>1</td>\n",
       "      <td>0</td>\n",
       "      <td>0</td>\n",
       "      <td>0</td>\n",
       "      <td>Other Vehicular</td>\n",
       "      <td>Unspecified</td>\n",
       "      <td>NaN</td>\n",
       "      <td>NaN</td>\n",
       "      <td>NaN</td>\n",
       "      <td>140835</td>\n",
       "      <td>PASSENGER VEHICLE</td>\n",
       "      <td>BICYCLE</td>\n",
       "      <td>NaN</td>\n",
       "      <td>NaN</td>\n",
       "      <td>NaN</td>\n",
       "      <td>2012</td>\n",
       "      <td>Jul</td>\n",
       "      <td>6</td>\n",
       "      <td>13</td>\n",
       "      <td>Fri</td>\n",
       "    </tr>\n",
       "    <tr>\n",
       "      <th>1894710</th>\n",
       "      <td>2012-07-02</td>\n",
       "      <td>2022-06-24 00:21:00</td>\n",
       "      <td>BROOKLYN</td>\n",
       "      <td>11218</td>\n",
       "      <td>40.636133</td>\n",
       "      <td>-73.972736</td>\n",
       "      <td>(40.6361331, -73.9727361)</td>\n",
       "      <td>DITMAS AVENUE</td>\n",
       "      <td>OCEAN PARKWAY</td>\n",
       "      <td>NaN</td>\n",
       "      <td>1.0</td>\n",
       "      <td>0.0</td>\n",
       "      <td>0</td>\n",
       "      <td>0</td>\n",
       "      <td>1</td>\n",
       "      <td>0</td>\n",
       "      <td>0</td>\n",
       "      <td>0</td>\n",
       "      <td>Unspecified</td>\n",
       "      <td>Unspecified</td>\n",
       "      <td>NaN</td>\n",
       "      <td>NaN</td>\n",
       "      <td>NaN</td>\n",
       "      <td>129911</td>\n",
       "      <td>PASSENGER VEHICLE</td>\n",
       "      <td>BICYCLE</td>\n",
       "      <td>NaN</td>\n",
       "      <td>NaN</td>\n",
       "      <td>NaN</td>\n",
       "      <td>2012</td>\n",
       "      <td>Jul</td>\n",
       "      <td>2</td>\n",
       "      <td>0</td>\n",
       "      <td>Mon</td>\n",
       "    </tr>\n",
       "  </tbody>\n",
       "</table>\n",
       "<p>34842 rows × 34 columns</p>\n",
       "</div>"
      ],
      "text/plain": [
       "        CRASH DATE          CRASH TIME    BOROUGH ZIP CODE   LATITUDE  \\\n",
       "53      2021-04-16 2022-06-24 11:00:00     QUEENS  11368.0  40.749580   \n",
       "140     2021-04-13 2022-06-24 17:55:00      BRONX  10452.0  40.844105   \n",
       "146     2021-04-14 2022-06-24 19:45:00   BROOKLYN  11201.0  40.694840   \n",
       "179     2021-04-16 2022-06-24 00:30:00     QUEENS  11369.0  40.758680   \n",
       "276     2021-04-14 2022-06-24 15:05:00   BROOKLYN  11201.0  40.693490   \n",
       "...            ...                 ...        ...      ...        ...   \n",
       "1894514 2012-07-04 2022-06-24 16:41:00   BROOKLYN    11203  40.656611   \n",
       "1894588 2012-07-09 2022-06-24 17:37:00   BROOKLYN    11222  40.720601   \n",
       "1894609 2012-07-02 2022-06-24 09:46:00  MANHATTAN    10002  40.717724   \n",
       "1894678 2012-07-06 2022-06-24 13:33:00   BROOKLYN    11209  40.625780   \n",
       "1894710 2012-07-02 2022-06-24 00:21:00   BROOKLYN    11218  40.636133   \n",
       "\n",
       "         LONGITUDE                   LOCATION  \\\n",
       "53      -73.865410      (40.74958, -73.86541)   \n",
       "140     -73.923065    (40.844105, -73.923065)   \n",
       "146     -73.983910      (40.69484, -73.98391)   \n",
       "179     -73.875520      (40.75868, -73.87552)   \n",
       "276     -73.979170      (40.69349, -73.97917)   \n",
       "...            ...                        ...   \n",
       "1894514 -73.930902  (40.6566109, -73.9309021)   \n",
       "1894588 -73.954754  (40.7206006, -73.9547539)   \n",
       "1894609 -73.985765  (40.7177239, -73.9857652)   \n",
       "1894678 -74.024154  (40.6257805, -74.0241544)   \n",
       "1894710 -73.972736  (40.6361331, -73.9727361)   \n",
       "\n",
       "                           ON STREET NAME                 CROSS STREET NAME  \\\n",
       "53                                    NaN                               NaN   \n",
       "140                         GRANT HIGHWAY                 UNIVERSITY AVENUE   \n",
       "146             FLATBUSH AVENUE EXTENSION                    JOHNSON STREET   \n",
       "179                             93 STREET                         32 AVENUE   \n",
       "276                         MYRTLE AVENUE                     ASHLAND PLACE   \n",
       "...                                   ...                               ...   \n",
       "1894514  UTICA AVENUE                      CLARKSON AVENUE                    \n",
       "1894588  BEDFORD AVENUE                    NORTH 12 STREET                    \n",
       "1894609  DELANCEY STREET                   CLINTON STREET                     \n",
       "1894678  5 AVENUE                          80 STREET                          \n",
       "1894710  DITMAS AVENUE                     OCEAN PARKWAY                      \n",
       "\n",
       "                    OFF STREET NAME  NUMBER OF PERSONS INJURED  \\\n",
       "53       100-10    ROOSEVELT AVENUE                        1.0   \n",
       "140                             NaN                        1.0   \n",
       "146                             NaN                        1.0   \n",
       "179                             NaN                        1.0   \n",
       "276                             NaN                        1.0   \n",
       "...                             ...                        ...   \n",
       "1894514                         NaN                        1.0   \n",
       "1894588                         NaN                        1.0   \n",
       "1894609                         NaN                        1.0   \n",
       "1894678                         NaN                        1.0   \n",
       "1894710                         NaN                        1.0   \n",
       "\n",
       "         NUMBER OF PERSONS KILLED  NUMBER OF PEDESTRIANS INJURED  \\\n",
       "53                            0.0                              0   \n",
       "140                           0.0                              0   \n",
       "146                           0.0                              0   \n",
       "179                           0.0                              0   \n",
       "276                           0.0                              0   \n",
       "...                           ...                            ...   \n",
       "1894514                       0.0                              0   \n",
       "1894588                       0.0                              0   \n",
       "1894609                       0.0                              0   \n",
       "1894678                       0.0                              0   \n",
       "1894710                       0.0                              0   \n",
       "\n",
       "         NUMBER OF PEDESTRIANS KILLED  NUMBER OF CYCLIST INJURED  \\\n",
       "53                                  0                          1   \n",
       "140                                 0                          1   \n",
       "146                                 0                          1   \n",
       "179                                 0                          1   \n",
       "276                                 0                          1   \n",
       "...                               ...                        ...   \n",
       "1894514                             0                          1   \n",
       "1894588                             0                          1   \n",
       "1894609                             0                          1   \n",
       "1894678                             0                          1   \n",
       "1894710                             0                          1   \n",
       "\n",
       "         NUMBER OF CYCLIST KILLED  NUMBER OF MOTORIST INJURED  \\\n",
       "53                              0                           0   \n",
       "140                             0                           0   \n",
       "146                             0                           0   \n",
       "179                             0                           0   \n",
       "276                             0                           0   \n",
       "...                           ...                         ...   \n",
       "1894514                         0                           0   \n",
       "1894588                         0                           0   \n",
       "1894609                         0                           0   \n",
       "1894678                         0                           0   \n",
       "1894710                         0                           0   \n",
       "\n",
       "         NUMBER OF MOTORIST KILLED  \\\n",
       "53                               0   \n",
       "140                              0   \n",
       "146                              0   \n",
       "179                              0   \n",
       "276                              0   \n",
       "...                            ...   \n",
       "1894514                          0   \n",
       "1894588                          0   \n",
       "1894609                          0   \n",
       "1894678                          0   \n",
       "1894710                          0   \n",
       "\n",
       "                             CONTRIBUTING FACTOR VEHICLE 1  \\\n",
       "53                                      Turning Improperly   \n",
       "140      Pedestrian/Bicyclist/Other Pedestrian Error/Co...   \n",
       "146                         Driver Inattention/Distraction   \n",
       "179                                           Unsafe Speed   \n",
       "276                                            Unspecified   \n",
       "...                                                    ...   \n",
       "1894514                                        Unspecified   \n",
       "1894588                              Passenger Distraction   \n",
       "1894609                            Outside Car Distraction   \n",
       "1894678                                    Other Vehicular   \n",
       "1894710                                        Unspecified   \n",
       "\n",
       "          CONTRIBUTING FACTOR VEHICLE 2 CONTRIBUTING FACTOR VEHICLE 3  \\\n",
       "53                          Unspecified                           NaN   \n",
       "140                         Unspecified                           NaN   \n",
       "146      Driver Inattention/Distraction                           NaN   \n",
       "179                         Unspecified                   Unspecified   \n",
       "276                         Unspecified                           NaN   \n",
       "...                                 ...                           ...   \n",
       "1894514                     Unspecified                           NaN   \n",
       "1894588                     Unspecified                           NaN   \n",
       "1894609                     Unspecified                           NaN   \n",
       "1894678                     Unspecified                           NaN   \n",
       "1894710                     Unspecified                           NaN   \n",
       "\n",
       "        CONTRIBUTING FACTOR VEHICLE 4 CONTRIBUTING FACTOR VEHICLE 5  \\\n",
       "53                                NaN                           NaN   \n",
       "140                               NaN                           NaN   \n",
       "146                               NaN                           NaN   \n",
       "179                               NaN                           NaN   \n",
       "276                               NaN                           NaN   \n",
       "...                               ...                           ...   \n",
       "1894514                           NaN                           NaN   \n",
       "1894588                           NaN                           NaN   \n",
       "1894609                           NaN                           NaN   \n",
       "1894678                           NaN                           NaN   \n",
       "1894710                           NaN                           NaN   \n",
       "\n",
       "         COLLISION_ID                  VEHICLE TYPE CODE 1  \\\n",
       "53            4407792  Station Wagon/Sport Utility Vehicle   \n",
       "140           4407789  Station Wagon/Sport Utility Vehicle   \n",
       "146           4407414                                Sedan   \n",
       "179           4407714                                Sedan   \n",
       "276           4407647  Station Wagon/Sport Utility Vehicle   \n",
       "...               ...                                  ...   \n",
       "1894514        135074                    PASSENGER VEHICLE   \n",
       "1894588        198192                                 TAXI   \n",
       "1894609         12187                        PICK-UP TRUCK   \n",
       "1894678        140835                    PASSENGER VEHICLE   \n",
       "1894710        129911                    PASSENGER VEHICLE   \n",
       "\n",
       "        VEHICLE TYPE CODE 2 VEHICLE TYPE CODE 3 VEHICLE TYPE CODE 4  \\\n",
       "53                     Bike                 NaN                 NaN   \n",
       "140                    Bike                 NaN                 NaN   \n",
       "146                    Bike                 NaN                 NaN   \n",
       "179                    Bike                 NaN                 NaN   \n",
       "276                    Bike                 NaN                 NaN   \n",
       "...                     ...                 ...                 ...   \n",
       "1894514             BICYCLE                 NaN                 NaN   \n",
       "1894588             BICYCLE                 NaN                 NaN   \n",
       "1894609             BICYCLE                 NaN                 NaN   \n",
       "1894678             BICYCLE                 NaN                 NaN   \n",
       "1894710             BICYCLE                 NaN                 NaN   \n",
       "\n",
       "        VEHICLE TYPE CODE 5  Year Month  Day  Hour Weekday  \n",
       "53                      NaN  2021   Apr   16    11     Fri  \n",
       "140                     NaN  2021   Apr   13    17     Tue  \n",
       "146                     NaN  2021   Apr   14    19     Wed  \n",
       "179                     NaN  2021   Apr   16     0     Fri  \n",
       "276                     NaN  2021   Apr   14    15     Wed  \n",
       "...                     ...   ...   ...  ...   ...     ...  \n",
       "1894514                 NaN  2012   Jul    4    16     Wed  \n",
       "1894588                 NaN  2012   Jul    9    17     Mon  \n",
       "1894609                 NaN  2012   Jul    2     9     Mon  \n",
       "1894678                 NaN  2012   Jul    6    13     Fri  \n",
       "1894710                 NaN  2012   Jul    2     0     Mon  \n",
       "\n",
       "[34842 rows x 34 columns]"
      ]
     },
     "execution_count": 51,
     "metadata": {},
     "output_type": "execute_result"
    }
   ],
   "source": [
    "df_bike = df_bike[df_bike['BOROUGH'].notna()]\n",
    "df_bike = df_bike[df_bike['CRASH DATE'].notna()]\n",
    "df_bike = df_bike[df_bike['CRASH TIME'].notna()]\n",
    "df_bike = df_bike[df_bike['LATITUDE'].notna()]\n",
    "df_bike = df_bike[df_bike['LONGITUDE'].notna()]\n",
    "df_bike.info()\n",
    "df_bike"
   ]
  },
  {
   "cell_type": "code",
   "execution_count": 24,
   "id": "cc705584",
   "metadata": {},
   "outputs": [
    {
     "name": "stdout",
     "output_type": "stream",
     "text": [
      "<class 'pandas.core.frame.DataFrame'>\n",
      "Int64Index: 509 entries, 0 to 508\n",
      "Data columns (total 18 columns):\n",
      " #   Column                 Non-Null Count  Dtype  \n",
      "---  ------                 --------------  -----  \n",
      " 0   id                     509 non-null    int64  \n",
      " 1   stationName            509 non-null    object \n",
      " 2   availableDocks         509 non-null    int64  \n",
      " 3   totalDocks             509 non-null    int64  \n",
      " 4   latitude               509 non-null    float64\n",
      " 5   longitude              509 non-null    float64\n",
      " 6   statusValue            509 non-null    object \n",
      " 7   statusKey              509 non-null    int64  \n",
      " 8   availableBikes         509 non-null    int64  \n",
      " 9   stAddress1             509 non-null    object \n",
      " 10  stAddress2             509 non-null    object \n",
      " 11  city                   509 non-null    object \n",
      " 12  postalCode             509 non-null    object \n",
      " 13  location               509 non-null    object \n",
      " 14  altitude               509 non-null    object \n",
      " 15  testStation            509 non-null    bool   \n",
      " 16  lastCommunicationTime  509 non-null    object \n",
      " 17  landMark               509 non-null    object \n",
      "dtypes: bool(1), float64(2), int64(5), object(10)\n",
      "memory usage: 72.1+ KB\n"
     ]
    }
   ],
   "source": [
    "stations = stations[stations['longitude'].notna()]\n",
    "stations.info()"
   ]
  },
  {
   "cell_type": "markdown",
   "id": "fd3b78df",
   "metadata": {},
   "source": [
    "## Step 4. Filtering/cleaning\n",
    "### B. Drop outliers"
   ]
  },
  {
   "cell_type": "code",
   "execution_count": 52,
   "id": "b8b85a60",
   "metadata": {},
   "outputs": [
    {
     "name": "stdout",
     "output_type": "stream",
     "text": [
      "<class 'pandas.core.frame.DataFrame'>\n",
      "Int64Index: 34737 entries, 53 to 1894710\n",
      "Data columns (total 34 columns):\n",
      " #   Column                         Non-Null Count  Dtype         \n",
      "---  ------                         --------------  -----         \n",
      " 0   CRASH DATE                     34737 non-null  datetime64[ns]\n",
      " 1   CRASH TIME                     34737 non-null  datetime64[ns]\n",
      " 2   BOROUGH                        34737 non-null  object        \n",
      " 3   ZIP CODE                       34736 non-null  object        \n",
      " 4   LATITUDE                       34737 non-null  float64       \n",
      " 5   LONGITUDE                      34737 non-null  float64       \n",
      " 6   LOCATION                       34737 non-null  object        \n",
      " 7   ON STREET NAME                 29044 non-null  object        \n",
      " 8   CROSS STREET NAME              29043 non-null  object        \n",
      " 9   OFF STREET NAME                5693 non-null   object        \n",
      " 10  NUMBER OF PERSONS INJURED      34736 non-null  float64       \n",
      " 11  NUMBER OF PERSONS KILLED       34736 non-null  float64       \n",
      " 12  NUMBER OF PEDESTRIANS INJURED  34737 non-null  float64       \n",
      " 13  NUMBER OF PEDESTRIANS KILLED   34737 non-null  float64       \n",
      " 14  NUMBER OF CYCLIST INJURED      34737 non-null  float64       \n",
      " 15  NUMBER OF CYCLIST KILLED       34737 non-null  float64       \n",
      " 16  NUMBER OF MOTORIST INJURED     34737 non-null  float64       \n",
      " 17  NUMBER OF MOTORIST KILLED      34737 non-null  float64       \n",
      " 18  CONTRIBUTING FACTOR VEHICLE 1  34722 non-null  object        \n",
      " 19  CONTRIBUTING FACTOR VEHICLE 2  32685 non-null  object        \n",
      " 20  CONTRIBUTING FACTOR VEHICLE 3  794 non-null    object        \n",
      " 21  CONTRIBUTING FACTOR VEHICLE 4  77 non-null     object        \n",
      " 22  CONTRIBUTING FACTOR VEHICLE 5  29 non-null     object        \n",
      " 23  COLLISION_ID                   34737 non-null  float64       \n",
      " 24  VEHICLE TYPE CODE 1            34720 non-null  object        \n",
      " 25  VEHICLE TYPE CODE 2            32057 non-null  object        \n",
      " 26  VEHICLE TYPE CODE 3            788 non-null    object        \n",
      " 27  VEHICLE TYPE CODE 4            77 non-null     object        \n",
      " 28  VEHICLE TYPE CODE 5            31 non-null     object        \n",
      " 29  Year                           34737 non-null  float64       \n",
      " 30  Month                          34737 non-null  object        \n",
      " 31  Day                            34737 non-null  float64       \n",
      " 32  Hour                           34737 non-null  float64       \n",
      " 33  Weekday                        34737 non-null  object        \n",
      "dtypes: datetime64[ns](2), float64(14), object(18)\n",
      "memory usage: 9.3+ MB\n"
     ]
    }
   ],
   "source": [
    "# Remove outliers for Longitude: n * standard_deviation (n=3)\n",
    "n=3\n",
    "\n",
    "median = df_bike['LONGITUDE'].median()\n",
    "std = df_bike['LONGITUDE'].std()\n",
    "outliers = (df_bike['LONGITUDE'] - median).abs() > std*n\n",
    "\n",
    "# Set outliers to NAN\n",
    "df_bike[outliers] = np.nan\n",
    "\n",
    "# Remove NAN\n",
    "df_bike = df_bike[df_bike['LONGITUDE'].notna()]\n",
    "df_bike.info()"
   ]
  },
  {
   "cell_type": "markdown",
   "id": "1b6411cb",
   "metadata": {},
   "source": [
    "## 5. Plot Bicycles Accident Locations"
   ]
  },
  {
   "cell_type": "code",
   "execution_count": 53,
   "id": "6adc42fe",
   "metadata": {},
   "outputs": [
    {
     "data": {
      "image/png": "[encoded data removed]",
      "text/plain": [
       "<Figure size 432x288 with 1 Axes>"
      ]
     },
     "metadata": {},
     "output_type": "display_data"
    }
   ],
   "source": [
    "# What is the most dangerous NYC borough / area for a bicycle rider? Use visualization.\n",
    "# The most dangerous NYC borough is Brooklyn\n",
    "bar_plot_data = pd.value_counts(np.array(df_bike['BOROUGH']))\n",
    "bar_plot_data\n",
    "fig = plt.figure()\n",
    "ax = fig.add_axes([0,0,1,1])\n",
    "areas = ['BROOKLYN', 'MANHATTAN', 'QUEENS', 'BRONX', 'STATEN ISLAND']\n",
    "accidents = bar_plot_data\n",
    "ax.bar(areas,accidents)\n",
    "# displaying the title\n",
    "plt.title(label=\"Bicycle Accidents NYC\",\n",
    "          fontsize=30,\n",
    "          color=\"black\")\n",
    "plt.xlabel(\"Borough\",fontsize=20)\n",
    "plt.ylabel(\"# of Accidents\",fontsize=20)\n",
    "plt.show()"
   ]
  },
  {
   "cell_type": "markdown",
   "id": "0f926b53",
   "metadata": {},
   "source": [
    "## 6. Plot Accident Locations vs. Bike station locations"
   ]
  },
  {
   "cell_type": "code",
   "execution_count": 54,
   "id": "e3e31c10",
   "metadata": {},
   "outputs": [
    {
     "data": {
      "image/png": "[encoded data removed]",
      "text/plain": [
       "<Figure size 432x288 with 1 Axes>"
      ]
     },
     "metadata": {},
     "output_type": "display_data"
    }
   ],
   "source": [
    "#What would you change in the locations of bike stations to increase safety? Use visualization.\n",
    "\n",
    "y_acc = df_bike.LATITUDE\n",
    "x_acc = df_bike.LONGITUDE\n",
    "\n",
    "y = stations.latitude\n",
    "x = stations.longitude\n",
    "\n",
    "plt.scatter(x_acc, y_acc, alpha=0.1)\n",
    "plt.scatter(x, y, color = 'green',alpha=0.5)\n",
    "\n",
    "plt.show()"
   ]
  },
  {
   "cell_type": "markdown",
   "id": "71f3a130",
   "metadata": {},
   "source": [
    "## 7. Plot Bike station locations"
   ]
  },
  {
   "cell_type": "code",
   "execution_count": 55,
   "id": "cabc42c1",
   "metadata": {},
   "outputs": [
    {
     "data": {
      "image/png": "[encoded data removed]",
      "text/plain": [
       "<Figure size 432x288 with 1 Axes>"
      ]
     },
     "metadata": {},
     "output_type": "display_data"
    }
   ],
   "source": [
    "#What would you change in the locations of bike stations to increase safety? Use visualization.\n",
    "#Move more bike stations to locations with no accidents happening nearby \n",
    "# e.g., Lat|Long = 40.69:40.75|-74.025:-74.100 -> More stations on Staten Island less in Brooklyn\n",
    "plt.scatter(x, y, color = 'green',alpha=0.5)\n",
    "plt.show()"
   ]
  },
  {
   "cell_type": "markdown",
   "id": "6ada5fd2",
   "metadata": {},
   "source": [
    "## Step 8. Select a list of features for machine learning algorithms"
   ]
  },
  {
   "cell_type": "code",
   "execution_count": 56,
   "id": "2a870da4",
   "metadata": {},
   "outputs": [],
   "source": [
    "# Set the list of features to include in Machine Learning\n",
    "feature_lst=['BOROUGH','LATITUDE','LONGITUDE','NUMBER OF PERSONS INJURED','NUMBER OF PERSONS KILLED','CONTRIBUTING FACTOR VEHICLE 1','CONTRIBUTING FACTOR VEHICLE 2', 'VEHICLE TYPE CODE 1', 'VEHICLE TYPE CODE 2','Hour','Weekday']"
   ]
  },
  {
   "cell_type": "code",
   "execution_count": 57,
   "id": "5777fbd9",
   "metadata": {},
   "outputs": [
    {
     "name": "stdout",
     "output_type": "stream",
     "text": [
      "<class 'pandas.core.frame.DataFrame'>\n",
      "Int64Index: 34737 entries, 53 to 1894710\n",
      "Data columns (total 11 columns):\n",
      " #   Column                         Non-Null Count  Dtype  \n",
      "---  ------                         --------------  -----  \n",
      " 0   BOROUGH                        34737 non-null  object \n",
      " 1   LATITUDE                       34737 non-null  float64\n",
      " 2   LONGITUDE                      34737 non-null  float64\n",
      " 3   NUMBER OF PERSONS INJURED      34736 non-null  float64\n",
      " 4   NUMBER OF PERSONS KILLED       34736 non-null  float64\n",
      " 5   CONTRIBUTING FACTOR VEHICLE 1  34722 non-null  object \n",
      " 6   CONTRIBUTING FACTOR VEHICLE 2  32685 non-null  object \n",
      " 7   VEHICLE TYPE CODE 1            34720 non-null  object \n",
      " 8   VEHICLE TYPE CODE 2            32057 non-null  object \n",
      " 9   Hour                           34737 non-null  float64\n",
      " 10  Weekday                        34737 non-null  object \n",
      "dtypes: float64(5), object(6)\n",
      "memory usage: 3.2+ MB\n"
     ]
    }
   ],
   "source": [
    "# Select the dataset to include only the selected features\n",
    "df_sel=df_bike[feature_lst].copy()\n",
    "df_sel.info()"
   ]
  },
  {
   "cell_type": "markdown",
   "id": "633183bb",
   "metadata": {},
   "source": [
    "## Step 9. Drop rows with missing values"
   ]
  },
  {
   "cell_type": "code",
   "execution_count": 58,
   "id": "84a1572a",
   "metadata": {},
   "outputs": [
    {
     "data": {
      "text/plain": [
       "BOROUGH                          0.000000\n",
       "LATITUDE                         0.000000\n",
       "LONGITUDE                        0.000000\n",
       "NUMBER OF PERSONS INJURED        0.000029\n",
       "NUMBER OF PERSONS KILLED         0.000029\n",
       "CONTRIBUTING FACTOR VEHICLE 1    0.000432\n",
       "CONTRIBUTING FACTOR VEHICLE 2    0.059072\n",
       "VEHICLE TYPE CODE 1              0.000489\n",
       "VEHICLE TYPE CODE 2              0.077151\n",
       "Hour                             0.000000\n",
       "Weekday                          0.000000\n",
       "dtype: float64"
      ]
     },
     "execution_count": 58,
     "metadata": {},
     "output_type": "execute_result"
    }
   ],
   "source": [
    "# Check missing values\n",
    "df_sel.isnull().mean()"
   ]
  },
  {
   "cell_type": "code",
   "execution_count": 59,
   "id": "a119ba04",
   "metadata": {},
   "outputs": [
    {
     "data": {
      "text/plain": [
       "(31451, 11)"
      ]
     },
     "execution_count": 59,
     "metadata": {},
     "output_type": "execute_result"
    }
   ],
   "source": [
    "df_sel.dropna(subset=df_sel.columns[df_sel.isnull().mean()!=0], how='any', axis=0, inplace=True)\n",
    "df_sel.shape"
   ]
  },
  {
   "cell_type": "code",
   "execution_count": 61,
   "id": "0ebcfa14",
   "metadata": {},
   "outputs": [
    {
     "data": {
      "text/plain": [
       "BOROUGH                          0.0\n",
       "LATITUDE                         0.0\n",
       "LONGITUDE                        0.0\n",
       "NUMBER OF PERSONS INJURED        0.0\n",
       "NUMBER OF PERSONS KILLED         0.0\n",
       "CONTRIBUTING FACTOR VEHICLE 1    0.0\n",
       "CONTRIBUTING FACTOR VEHICLE 2    0.0\n",
       "VEHICLE TYPE CODE 1              0.0\n",
       "VEHICLE TYPE CODE 2              0.0\n",
       "Hour                             0.0\n",
       "Weekday                          0.0\n",
       "dtype: float64"
      ]
     },
     "execution_count": 61,
     "metadata": {},
     "output_type": "execute_result"
    }
   ],
   "source": [
    "# Check missing values\n",
    "df_sel.isnull().mean()"
   ]
  },
  {
   "cell_type": "markdown",
   "id": "ff8d1bb0",
   "metadata": {},
   "source": [
    "## Step 10. Deal with categorical data: pd.get_dummies()"
   ]
  },
  {
   "cell_type": "code",
   "execution_count": 146,
   "id": "e8bc9358",
   "metadata": {},
   "outputs": [
    {
     "name": "stdout",
     "output_type": "stream",
     "text": [
      "<class 'pandas.core.frame.DataFrame'>\n",
      "Int64Index: 34737 entries, 53 to 1894710\n",
      "Columns: 36593 entries, CRASH DATE to Weekday_Wed\n",
      "dtypes: datetime64[ns](2), float64(14), uint8(36577)\n",
      "memory usage: 1.2 GB\n"
     ]
    }
   ],
   "source": [
    "# Generate dummies for categorical data\n",
    "df_bike_dummy = pd.get_dummies(df_bike,drop_first=True)\n",
    "\n",
    "df_bike_dummy.info()"
   ]
  },
  {
   "cell_type": "code",
   "execution_count": 171,
   "id": "76f65c1d",
   "metadata": {},
   "outputs": [
    {
     "name": "stdout",
     "output_type": "stream",
     "text": [
      "<class 'pandas.core.frame.DataFrame'>\n",
      "Int64Index: 31451 entries, 53 to 1894710\n",
      "Columns: 277 entries, LATITUDE to Weekday_Wed\n",
      "dtypes: float64(5), uint8(272)\n",
      "memory usage: 9.6 MB\n"
     ]
    }
   ],
   "source": [
    "# Generate dummies for categorical data\n",
    "df_sel_dummy = pd.get_dummies(df_sel,drop_first=True)\n",
    "\n",
    "df_sel_dummy.info()"
   ]
  },
  {
   "cell_type": "code",
   "execution_count": 172,
   "id": "7770470d",
   "metadata": {},
   "outputs": [],
   "source": [
    "# Export data\n",
    "#df_bike_dummy.to_csv('./Motor_Vehicle_Collisions_-_Crashes_bike_dummy.csv',index=False)\n",
    "df_sel_dummy.to_csv('./Motor_Vehicle_Collisions_-_Crashes_sel_dummy.csv',index=False)"
   ]
  },
  {
   "cell_type": "markdown",
   "id": "dde6473d",
   "metadata": {},
   "source": [
    "## Step 11. Predict the accident location with various supervised machine learning algorithms\n",
    "### Data preparation: train_test_split"
   ]
  },
  {
   "cell_type": "code",
   "execution_count": 195,
   "id": "e0ddbef4",
   "metadata": {},
   "outputs": [],
   "source": [
    "# Assign the data\n",
    "#df_bike_dummy = df_bike_dummy.drop('CRASH TIME', 1)\n",
    "#df_bike_dummy = df_bike_dummy.drop('CRASH DATE', 1)\n",
    "#df = df_bike_dummy\n",
    "\n",
    "#Reduction of dataset due to resource limitations of device in use.\n",
    "df = df_sel_dummy\n",
    "\n",
    "\n",
    "# Set the target for the prediction\n",
    "target = ['LATITUDE','LONGITUDE']\n",
    "#target = 'LATITUDE'\n",
    "#target2 = 'LONGITUDE'\n",
    "\n",
    "\n",
    "# Create arrays for the features and the response variable\n",
    "\n",
    "# set X and y\n",
    "y = df[target]\n",
    "X = df.drop(target, axis=1)"
   ]
  },
  {
   "cell_type": "code",
   "execution_count": 206,
   "id": "7570e03d",
   "metadata": {},
   "outputs": [],
   "source": [
    "# Split the data set into training and testing data sets\n",
    "X_train, X_test, y_train, y_test = train_test_split(X, y, test_size=0.2, random_state=21, stratify = None)"
   ]
  },
  {
   "cell_type": "code",
   "execution_count": 221,
   "id": "6f49b0aa",
   "metadata": {},
   "outputs": [],
   "source": [
    "# List of classification algorithms\n",
    "algo_lst=['Linear Regression',' K-Nearest Neighbors Regression','Decision Trees Regression','Random Forest Regression']\n",
    "\n",
    "# Initialize an empty list for the accuracy for each algorithm\n",
    "#accuracy_lst=[]\n",
    "r2_lst=[]"
   ]
  },
  {
   "cell_type": "markdown",
   "id": "c3426ded",
   "metadata": {},
   "source": [
    "## Step 11. Predict the accident location with various supervised machine learning algorithms\n",
    "### Algorithm A. Linear regression"
   ]
  },
  {
   "cell_type": "code",
   "execution_count": 228,
   "id": "34e46a69",
   "metadata": {},
   "outputs": [
    {
     "name": "stdout",
     "output_type": "stream",
     "text": [
      "[Linear regression algorithm] r2_score: 0.693.\n"
     ]
    }
   ],
   "source": [
    "# Linear Regression\n",
    "lm = LinearRegression()\n",
    "lm.fit(X_train,y_train)\n",
    "y_pred = lm.predict(X_test)\n",
    "\n",
    "# Get the accuracy score\n",
    "r2=r2_score(y_test, y_pred)\n",
    "\n",
    "# Append to the accuracy list\n",
    "r2_lst.append(r2)\n",
    "\n",
    "print(\"[Linear regression algorithm] r2_score: {:.3f}.\".format(r2))"
   ]
  },
  {
   "cell_type": "markdown",
   "id": "86a3cd6e",
   "metadata": {},
   "source": [
    "## Step 11. Predict the accident location with various supervised machine learning algorithms\n",
    "### Algorithm B. k-Nearest Neighbors for Multioutput Regression"
   ]
  },
  {
   "cell_type": "code",
   "execution_count": 268,
   "id": "21b44a1d",
   "metadata": {},
   "outputs": [
    {
     "name": "stdout",
     "output_type": "stream",
     "text": [
      "[k-Nearest Neighbors Regression algorithm] r2_score: 0.438.\n"
     ]
    }
   ],
   "source": [
    "from sklearn.neighbors import KNeighborsRegressor\n",
    "# k-Nearest Neighbors Regression\n",
    "knr = KNeighborsRegressor()\n",
    "knr.fit(X_train,y_train)\n",
    "y_pred = knr.predict(X_test)\n",
    "\n",
    "# Get the accuracy score\n",
    "r2=r2_score(y_test, y_pred)\n",
    "\n",
    "# Append to the accuracy list\n",
    "r2_lst.append(r2)\n",
    "\n",
    "print(\"[k-Nearest Neighbors Regression algorithm] r2_score: {:.3f}.\".format(r2))"
   ]
  },
  {
   "cell_type": "markdown",
   "id": "38ffa854",
   "metadata": {},
   "source": [
    "## Step 11. Predict the accident location with various supervised machine learning algorithms\n",
    "### Algorithm C. Decision Tree for Multioutput Regression"
   ]
  },
  {
   "cell_type": "code",
   "execution_count": 267,
   "id": "2a507cf9",
   "metadata": {},
   "outputs": [
    {
     "name": "stdout",
     "output_type": "stream",
     "text": [
      "[Decision Tree Regression algorithm] r2_score: 0.475.\n"
     ]
    }
   ],
   "source": [
    "# decision tree for multioutput regression\n",
    "dtr = DecisionTreeRegressor()\n",
    "dtr.fit(X_train,y_train)\n",
    "y_pred = dtr.predict(X_test)\n",
    "\n",
    "# Get the accuracy score\n",
    "r2=r2_score(y_test, y_pred)\n",
    "\n",
    "# Append to the accuracy list\n",
    "r2_lst.append(r2)\n",
    "\n",
    "print(\"[Decision Tree Regression algorithm] r2_score: {:.3f}.\".format(r2))"
   ]
  },
  {
   "cell_type": "markdown",
   "id": "cdbf5430",
   "metadata": {},
   "source": [
    "## Step 11. Predict the accident location with various supervised machine learning algorithms\n",
    "### Algorithm D. Random Forest Regression"
   ]
  },
  {
   "cell_type": "code",
   "execution_count": 249,
   "id": "9e3d0279",
   "metadata": {},
   "outputs": [
    {
     "name": "stdout",
     "output_type": "stream",
     "text": [
      "[Random Forest Regression algorithm] r2_score: 0.641.\n"
     ]
    }
   ],
   "source": [
    "# random forest regression\n",
    "rfr = RandomForestRegressor()\n",
    "#rfr = RandomForestRegressor(n_estimators=100, max_depth=5)\n",
    "rfr.fit(X_train, y_train)\n",
    "y_pred = rfr.predict(X_test)\n",
    "\n",
    "# Get the accuracy score\n",
    "r2=r2_score(y_test, y_pred)\n",
    "\n",
    "# Append to the accuracy list\n",
    "r2_lst.append(r2)\n",
    "\n",
    "print(\"[Random Forest Regression algorithm] r2_score: {:.3f}.\".format(r2))"
   ]
  },
  {
   "cell_type": "markdown",
   "id": "1250e4dd",
   "metadata": {},
   "source": [
    "## Step 11. Predict the accident location with various supervised machine learning algorithms\n",
    "### Algorithm D. Random Forest Regression\n",
    "#### Visualize important features"
   ]
  },
  {
   "cell_type": "code",
   "execution_count": 250,
   "id": "b0214cb8",
   "metadata": {},
   "outputs": [
    {
     "name": "stderr",
     "output_type": "stream",
     "text": [
      "No artists with labels found to put in legend.  Note that artists whose label start with an underscore are ignored when legend() is called with no argument.\n"
     ]
    },
    {
     "data": {
      "image/png": "[encoded data removed]",
      "text/plain": [
       "<Figure size 432x288 with 1 Axes>"
      ]
     },
     "metadata": {},
     "output_type": "display_data"
    }
   ],
   "source": [
    "feature_imp = pd.Series(rfr.feature_importances_,index=X.columns).sort_values(ascending=False)\n",
    "\n",
    "# Creating a bar plot, displaying only the top k features\n",
    "k=10\n",
    "sns.barplot(x=feature_imp[:10], y=feature_imp.index[:k])\n",
    "# Add labels to your graph\n",
    "plt.xlabel('Feature Importance Score')\n",
    "plt.ylabel('Features')\n",
    "plt.title(\"Visualizing Important Features\")\n",
    "plt.legend()\n",
    "plt.show()"
   ]
  },
  {
   "cell_type": "markdown",
   "id": "62b567dc",
   "metadata": {},
   "source": [
    "## Step 12. Plot the predicted accident locations vs. bike stations\n",
    "### Use Linear Regression"
   ]
  },
  {
   "cell_type": "code",
   "execution_count": 391,
   "id": "08186307",
   "metadata": {},
   "outputs": [
    {
     "data": {
      "image/png": "[encoded data removed]",
      "text/plain": [
       "<Figure size 432x288 with 1 Axes>"
      ]
     },
     "metadata": {},
     "output_type": "display_data"
    }
   ],
   "source": [
    "#Where can an accident occur?\n",
    "\n",
    "y_acc = lm.predict(X_test)[:,0]\n",
    "x_acc = lm.predict(X_test)[:,1]\n",
    "\n",
    "y = stations.latitude\n",
    "x = stations.longitude\n",
    "\n",
    "plt.scatter(x_acc, y_acc, alpha=0.4)\n",
    "plt.scatter(x, y, color = 'green',alpha=0.3)\n",
    "\n",
    "plt.show()"
   ]
  },
  {
   "cell_type": "markdown",
   "id": "ce8f67f8",
   "metadata": {},
   "source": [
    "## Step 13. Distance of predicted accidents to nearest bike station"
   ]
  },
  {
   "cell_type": "code",
   "execution_count": 370,
   "id": "7f2b1d5e",
   "metadata": {},
   "outputs": [],
   "source": [
    "#Where can an accident occur and how close is this from the nearest bike station? "
   ]
  },
  {
   "cell_type": "code",
   "execution_count": 445,
   "id": "a6d70824",
   "metadata": {},
   "outputs": [],
   "source": [
    "# Initialize an empty list for min distance of predicted locations to nearest bike station\n",
    "Row_min_dist_lst=[]\n",
    "for i in range(0, y_acc.size):\n",
    "    disty = np.repeat(y_acc[i], y.size, axis=0)-y\n",
    "    distx = np.repeat(x_acc[i], x.size, axis=0)-x\n",
    "    dist = np.sqrt(np.square(distx)+np.square(disty))\n",
    "    min_dist = min(dist)\n",
    "    df = pd.DataFrame(dist)\n",
    "    Row_min = df.loc[df[0] == min_dist]\n",
    "    Row_min_dist_lst.append(Row_min.index)"
   ]
  },
  {
   "cell_type": "code",
   "execution_count": 496,
   "id": "e14a3dd6",
   "metadata": {},
   "outputs": [],
   "source": [
    "nearest_stationName_lst=[]\n",
    "nearest_station_lat_lst=[]\n",
    "nearest_station_long_lst=[]\n",
    "for i in range(0, y_acc.size):\n",
    "    Names = stations[\"stationName\"][Row_min_dist_lst[i]]\n",
    "    nearest_stationName_lst.append(Names)\n",
    "    lat = stations[\"latitude\"][Row_min_dist_lst[i]]\n",
    "    nearest_station_lat_lst.append(lat)\n",
    "    long = stations[\"longitude\"][Row_min_dist_lst[i]]\n",
    "    nearest_station_long_lst.append(long)"
   ]
  },
  {
   "cell_type": "code",
   "execution_count": 497,
   "id": "7ab61aaf",
   "metadata": {},
   "outputs": [],
   "source": [
    "nearest_stationName = np.array(nearest_stationName_lst)\n",
    "nearest_station_lat = np.array(nearest_station_lat_lst)\n",
    "nearest_station_long = np.array(nearest_station_long_lst)"
   ]
  },
  {
   "cell_type": "markdown",
   "id": "50960c9e",
   "metadata": {},
   "source": [
    "## Step 14. Plot the predicted accident locations vs. nearest bike station\n",
    "### Use Linear Regression"
   ]
  },
  {
   "cell_type": "code",
   "execution_count": 498,
   "id": "f295f1da",
   "metadata": {},
   "outputs": [
    {
     "data": {
      "image/png": "[encoded data removed]",
      "text/plain": [
       "<Figure size 432x288 with 1 Axes>"
      ]
     },
     "metadata": {},
     "output_type": "display_data"
    }
   ],
   "source": [
    "#Where can an accident occur and how close is this from the nearest bike station? \n",
    "y_acc = lm.predict(X_test)[:,0]\n",
    "x_acc = lm.predict(X_test)[:,1]\n",
    "\n",
    "y = nearest_station_lat\n",
    "x = nearest_station_long\n",
    "\n",
    "plt.scatter(x_acc, y_acc, alpha=0.4)\n",
    "plt.scatter(x, y, color = 'green',alpha=0.3)\n",
    "\n",
    "plt.show()"
   ]
  }
 ],
 "metadata": {
  "kernelspec": {
   "display_name": "Python 3 (ipykernel)",
   "language": "python",
   "name": "python3"
  },
  "language_info": {
   "codemirror_mode": {
    "name": "ipython",
    "version": 3
   },
   "file_extension": ".py",
   "mimetype": "text/x-python",
   "name": "python",
   "nbconvert_exporter": "python",
   "pygments_lexer": "ipython3",
   "version": "3.9.12"
  }
 },
 "nbformat": 4,
 "nbformat_minor": 5
}
